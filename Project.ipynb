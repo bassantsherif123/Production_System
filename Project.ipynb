{
 "cells": [
  {
   "cell_type": "markdown",
   "id": "80d88201",
   "metadata": {},
   "source": [
    "## 📖 Read Rules and Facts from Files"
   ]
  },
  {
   "cell_type": "code",
   "execution_count": 137,
   "id": "4edd8851",
   "metadata": {},
   "outputs": [],
   "source": [
    "def parse_facts(facts_path='facts.txt'):\n",
    "  facts = []\n",
    "  with open(facts_path) as file:\n",
    "    for line in file:\n",
    "      facts.append(line.strip())\n",
    "  return facts"
   ]
  },
  {
   "cell_type": "code",
   "execution_count": 138,
   "id": "174c159e",
   "metadata": {},
   "outputs": [],
   "source": [
    "def parse_rules(rules_path='rules.txt'):\n",
    "  rules = {}\n",
    "  parsed_rules = []\n",
    "  \n",
    "  with open(rules_path) as file:\n",
    "    for i, line in enumerate(file):\n",
    "      rules[f'R{i}'] = line.strip()\n",
    "      \n",
    "      # parts[0] -> premises\n",
    "      # part[1] -> conclusion\n",
    "      parts = rules[f'R{i}'].strip().split('THEN')\n",
    "      \n",
    "      # Considering ANDs\n",
    "      raw_premises = parts[0].replace('IF', '').strip().split('AND')\n",
    "      premises = []\n",
    "\n",
    "      # considering ORs in ANDs\n",
    "      for p in raw_premises:\n",
    "        # [['A','B'], ['C']] = ('A' OR 'B') AND 'C'\n",
    "        ors = [condition.strip() for condition in p.strip().split('OR')]\n",
    "        premises.append(ors)\n",
    "\n",
    "      conclusion = parts[1].strip()\n",
    "\n",
    "      parsed_rules.append({\n",
    "              'id': f'R{i}',\n",
    "              'premises': premises,\n",
    "              'conclusion': conclusion\n",
    "          })\n",
    "      \n",
    "  return rules, parsed_rules"
   ]
  },
  {
   "cell_type": "code",
   "execution_count": 139,
   "id": "a8b5f41e",
   "metadata": {},
   "outputs": [],
   "source": [
    "rules, parsed_rules = parse_rules()\n",
    "original_facts = parse_facts()\n",
    "goal = 'citrus_fruit'\n",
    "\n",
    "# Make a copy of original use for appropriate use in Backward chaining\n",
    "facts = original_facts[:]"
   ]
  },
  {
   "cell_type": "code",
   "execution_count": 140,
   "id": "6d404e1f",
   "metadata": {},
   "outputs": [
    {
     "data": {
      "text/plain": [
       "['seeds = 0', 'diameter = 7', 'skin_smell', 'color is orange']"
      ]
     },
     "execution_count": 140,
     "metadata": {},
     "output_type": "execute_result"
    }
   ],
   "source": [
    "original_facts"
   ]
  },
  {
   "cell_type": "code",
   "execution_count": 141,
   "id": "3d83c957",
   "metadata": {},
   "outputs": [
    {
     "data": {
      "text/plain": [
       "{'R0': 'IF shape is long AND color is yellow THEN fruit is banana',\n",
       " 'R1': 'IF shape is round AND color is red AND size is medium THEN fruit is apple',\n",
       " 'R2': 'IF shape is round AND color is red AND size is small THEN fruit is cherry',\n",
       " 'R3': 'IF skin_smell THEN perfumed',\n",
       " 'R4': 'IF fruit is lemon OR fruit is orange OR fruit is pomelo OR fruit is grapefruit THEN citrus_fruit',\n",
       " 'R5': 'IF size is medium AND color is yellow AND perfumed THEN fruit is lemon',\n",
       " 'R6': 'IF size is medium AND color is green THEN fruit is kiwi',\n",
       " 'R7': 'IF size is big AND perfumed AND color is orange AND citrus_fruit THEN fruit is grapefruit',\n",
       " 'R8': 'IF perfumed AND color is orange AND size is medium THEN fruit is orange',\n",
       " 'R9': 'IF perfumed AND color is red AND size is small AND seeds = 0 THEN fruit is strawberry',\n",
       " 'R10': 'IF diameter < 2 THEN size is small',\n",
       " 'R11': 'IF diameter > 10 THEN size is big',\n",
       " 'R12': 'IF diameter > 2 AND diameter < 10 THEN size is medium'}"
      ]
     },
     "execution_count": 141,
     "metadata": {},
     "output_type": "execute_result"
    }
   ],
   "source": [
    "rules"
   ]
  },
  {
   "cell_type": "code",
   "execution_count": 142,
   "id": "8f7385e0",
   "metadata": {},
   "outputs": [
    {
     "data": {
      "text/plain": [
       "[{'id': 'R0',\n",
       "  'premises': [['shape is long'], ['color is yellow']],\n",
       "  'conclusion': 'fruit is banana'},\n",
       " {'id': 'R1',\n",
       "  'premises': [['shape is round'], ['color is red'], ['size is medium']],\n",
       "  'conclusion': 'fruit is apple'},\n",
       " {'id': 'R2',\n",
       "  'premises': [['shape is round'], ['color is red'], ['size is small']],\n",
       "  'conclusion': 'fruit is cherry'},\n",
       " {'id': 'R3', 'premises': [['skin_smell']], 'conclusion': 'perfumed'},\n",
       " {'id': 'R4',\n",
       "  'premises': [['fruit is lemon',\n",
       "    'fruit is orange',\n",
       "    'fruit is pomelo',\n",
       "    'fruit is grapefruit']],\n",
       "  'conclusion': 'citrus_fruit'},\n",
       " {'id': 'R5',\n",
       "  'premises': [['size is medium'], ['color is yellow'], ['perfumed']],\n",
       "  'conclusion': 'fruit is lemon'},\n",
       " {'id': 'R6',\n",
       "  'premises': [['size is medium'], ['color is green']],\n",
       "  'conclusion': 'fruit is kiwi'},\n",
       " {'id': 'R7',\n",
       "  'premises': [['size is big'],\n",
       "   ['perfumed'],\n",
       "   ['color is orange'],\n",
       "   ['citrus_fruit']],\n",
       "  'conclusion': 'fruit is grapefruit'},\n",
       " {'id': 'R8',\n",
       "  'premises': [['perfumed'], ['color is orange'], ['size is medium']],\n",
       "  'conclusion': 'fruit is orange'},\n",
       " {'id': 'R9',\n",
       "  'premises': [['perfumed'],\n",
       "   ['color is red'],\n",
       "   ['size is small'],\n",
       "   ['seeds = 0']],\n",
       "  'conclusion': 'fruit is strawberry'},\n",
       " {'id': 'R10', 'premises': [['diameter < 2']], 'conclusion': 'size is small'},\n",
       " {'id': 'R11', 'premises': [['diameter > 10']], 'conclusion': 'size is big'},\n",
       " {'id': 'R12',\n",
       "  'premises': [['diameter > 2'], ['diameter < 10']],\n",
       "  'conclusion': 'size is medium'}]"
      ]
     },
     "execution_count": 142,
     "metadata": {},
     "output_type": "execute_result"
    }
   ],
   "source": [
    "parsed_rules"
   ]
  },
  {
   "cell_type": "markdown",
   "id": "60aa5039",
   "metadata": {},
   "source": [
    "## Implement Forward Chaining from scratch"
   ]
  },
  {
   "cell_type": "code",
   "execution_count": 143,
   "id": "71148518",
   "metadata": {},
   "outputs": [],
   "source": [
    "def Forward_Chaining(rules, parsed_rules, original_facts, goal):\n",
    "    facts = original_facts[:]\n",
    "    Fired_rules = []\n",
    "    cycle = 1\n",
    "\n",
    "    # For assigned variables -> EX: 'diameter = 7'\n",
    "    fact_vars = {}\n",
    "\n",
    "    # Add assignments to fact_vars\n",
    "    for fact in facts:\n",
    "        if '=' in fact and '==' not in fact:\n",
    "            exec(fact, {}, fact_vars)\n",
    "\n",
    "    while goal not in facts and len(Fired_rules) < len(rules):\n",
    "        print(f'Cycle {cycle}:')\n",
    "        rule_fired_this_cycle = False\n",
    "\n",
    "        for rule in parsed_rules:\n",
    "            id = rule['id']\n",
    "            premises = rule['premises']\n",
    "            conclusion = rule['conclusion']\n",
    "\n",
    "            # Skip if rule is already fired\n",
    "            if id in Fired_rules:\n",
    "                continue\n",
    "\n",
    "            rule_match = True\n",
    "            for ANDs in premises:\n",
    "                match = False\n",
    "                for ORs in ANDs:\n",
    "                    # Check if it's a known fact\n",
    "                    if ORs in facts:\n",
    "                        match = True\n",
    "                        break\n",
    "                    try:\n",
    "                        # Try evaluating the condition\n",
    "                        if eval(ORs, {}, fact_vars):\n",
    "                            match = True\n",
    "                            break\n",
    "                    except:\n",
    "                        pass\n",
    "\n",
    "                # If the OR group has none matched; entire rule fails\n",
    "                if not match:\n",
    "                    rule_match = False\n",
    "                    break\n",
    "\n",
    "            if rule_match:\n",
    "                Fired_rules.append(id)\n",
    "                facts.append(conclusion)\n",
    "\n",
    "                # IF there are conclusions to be added to fact_vars\n",
    "                try:\n",
    "                    if '=' in conclusion and '==' not in conclusion:\n",
    "                        exec(conclusion, {}, fact_vars)\n",
    "                except:\n",
    "                    pass\n",
    "\n",
    "                # Add the conclusion to facts and print the updated facts\n",
    "                print(f'- Fire {id}: {rules[id]}\\n'+\n",
    "                    f'- Add \\'{conclusion}\\' to facts.\\n'+\n",
    "                    f'- Facts = {facts}\\n')\n",
    "                \n",
    "                rule_fired_this_cycle = True\n",
    "\n",
    "                # Fire only one rule per cycle\n",
    "                break\n",
    "\n",
    "        # Break if no rule is fired during the cycle\n",
    "        if not rule_fired_this_cycle:\n",
    "            print('- No rules to fire.\\n')\n",
    "            break\n",
    "\n",
    "        if goal not in facts:\n",
    "            print('=> Goal not reached; Continue.\\n' +\n",
    "                  '-' * 50)\n",
    "\n",
    "        cycle += 1\n",
    "    print('😊 Goal was reached successfully.') if goal in facts else print('😞 Failed to reach goal.\\n')\n",
    "    return"
   ]
  },
  {
   "cell_type": "code",
   "execution_count": 144,
   "id": "46a23585",
   "metadata": {},
   "outputs": [
    {
     "name": "stdout",
     "output_type": "stream",
     "text": [
      "Cycle 1:\n",
      "- Fire R3: IF skin_smell THEN perfumed\n",
      "- Add 'perfumed' to facts.\n",
      "- Facts = ['seeds = 0', 'diameter = 7', 'skin_smell', 'color is orange', 'perfumed']\n",
      "\n",
      "=> Goal not reached; Continue.\n",
      "--------------------------------------------------\n",
      "Cycle 2:\n",
      "- Fire R12: IF diameter > 2 AND diameter < 10 THEN size is medium\n",
      "- Add 'size is medium' to facts.\n",
      "- Facts = ['seeds = 0', 'diameter = 7', 'skin_smell', 'color is orange', 'perfumed', 'size is medium']\n",
      "\n",
      "=> Goal not reached; Continue.\n",
      "--------------------------------------------------\n",
      "Cycle 3:\n",
      "- Fire R8: IF perfumed AND color is orange AND size is medium THEN fruit is orange\n",
      "- Add 'fruit is orange' to facts.\n",
      "- Facts = ['seeds = 0', 'diameter = 7', 'skin_smell', 'color is orange', 'perfumed', 'size is medium', 'fruit is orange']\n",
      "\n",
      "=> Goal not reached; Continue.\n",
      "--------------------------------------------------\n",
      "Cycle 4:\n",
      "- Fire R4: IF fruit is lemon OR fruit is orange OR fruit is pomelo OR fruit is grapefruit THEN citrus_fruit\n",
      "- Add 'citrus_fruit' to facts.\n",
      "- Facts = ['seeds = 0', 'diameter = 7', 'skin_smell', 'color is orange', 'perfumed', 'size is medium', 'fruit is orange', 'citrus_fruit']\n",
      "\n",
      "😊 Goal was reached successfully.\n"
     ]
    }
   ],
   "source": [
    "Forward_Chaining(rules, parsed_rules, original_facts, goal)"
   ]
  },
  {
   "cell_type": "markdown",
   "id": "949cf953",
   "metadata": {},
   "source": [
    "## Implement Backward Chaining from scratch"
   ]
  },
  {
   "cell_type": "code",
   "execution_count": null,
   "id": "40b11dbc",
   "metadata": {},
   "outputs": [],
   "source": [
    "def Backward_Chaining(rules, parsed_rules, facts, goal, indent=0):\n",
    "    # For assigned variables -> EX: 'diameter = 7'\n",
    "    fact_vars = {}\n",
    "    for fact in facts:\n",
    "        if '=' in fact and '==' not in fact:\n",
    "            exec(fact, {}, fact_vars)\n",
    "\n",
    "    # If the goal is in facts or evaluates to True\n",
    "    try:\n",
    "        if goal in facts or eval(goal, {}, fact_vars):\n",
    "            print(f'{' ' * indent}✔️ \\'{goal}\\' is in Facts')\n",
    "            return True\n",
    "    except:\n",
    "        pass\n",
    "\n",
    "    print(f'{' ' * indent}* Matching \\'{goal}\\'')\n",
    "    \n",
    "    for rule in parsed_rules:\n",
    "        if rule['conclusion'] == goal:\n",
    "            id = rule['id']\n",
    "            premises = rule['premises']\n",
    "            print(f'{' ' * indent}- {id}: {rules[id]}')\n",
    "\n",
    "            rule_match = True\n",
    "            for ANDs in premises:\n",
    "                match = False\n",
    "                for ORs in ANDs:\n",
    "                    # Check if it's a known fact\n",
    "                    if Backward_Chaining(rules, parsed_rules, facts, ORs, indent + 4):\n",
    "                        match = True\n",
    "                        break\n",
    "                \n",
    "                # If the OR group has none matched; entire rule fails\n",
    "                if not match:\n",
    "                    rule_match = False\n",
    "                    break\n",
    "\n",
    "            if rule_match:\n",
    "                if goal not in facts:\n",
    "                    facts.append(goal)\n",
    "\n",
    "                    # IF there are conclusions to be added to fact_vars\n",
    "                    if '=' in goal and '==' not in goal:\n",
    "                        try:\n",
    "                            exec(goal, {}, fact_vars)\n",
    "                        except:\n",
    "                            pass\n",
    "\n",
    "                    # Add the goal to facts and print the updated facts\n",
    "                    print(f'{' ' * indent}✅ {id} is True.\\n' +\n",
    "                        f'{' ' * indent}- Add \\'{goal}\\' to Facts.\\n' +\n",
    "                        f'{' ' * indent}- Facts = {facts}\\n')\n",
    "                    return True\n",
    "            else:\n",
    "                print(f'{' ' * indent}❌ {id} is False.')\n",
    "\n",
    "    print(f'{' ' * indent}⚠️ Could not prove: \\'{goal}\\'\\n')\n",
    "    return False"
   ]
  },
  {
   "cell_type": "code",
   "execution_count": 146,
   "id": "970ffad5",
   "metadata": {},
   "outputs": [
    {
     "name": "stdout",
     "output_type": "stream",
     "text": [
      "=> Starting with facts = ['seeds = 0', 'diameter = 7', 'skin_smell', 'color is orange'] to prove goal: 'citrus_fruit'\n",
      "\n",
      "* Matching 'citrus_fruit'\n",
      "- R4: IF fruit is lemon OR fruit is orange OR fruit is pomelo OR fruit is grapefruit THEN citrus_fruit\n",
      "    * Matching 'fruit is lemon'\n",
      "    - R5: IF size is medium AND color is yellow AND perfumed THEN fruit is lemon\n",
      "        * Matching 'size is medium'\n",
      "        - R12: IF diameter > 2 AND diameter < 10 THEN size is medium\n",
      "            ✔️ 'diameter > 2' is in Facts\n",
      "            ✔️ 'diameter < 10' is in Facts\n",
      "        ✅ R12 is True.\n",
      "        - Add 'size is medium' to Facts.\n",
      "        - Facts = ['seeds = 0', 'diameter = 7', 'skin_smell', 'color is orange', 'size is medium']\n",
      "\n",
      "        * Matching 'color is yellow'\n",
      "        ⚠️ Could not prove: 'color is yellow'\n",
      "\n",
      "    ❌ R5 is False.\n",
      "    ⚠️ Could not prove: 'fruit is lemon'\n",
      "\n",
      "    * Matching 'fruit is orange'\n",
      "    - R8: IF perfumed AND color is orange AND size is medium THEN fruit is orange\n",
      "        * Matching 'perfumed'\n",
      "        - R3: IF skin_smell THEN perfumed\n",
      "            ✔️ 'skin_smell' is in Facts\n",
      "        ✅ R3 is True.\n",
      "        - Add 'perfumed' to Facts.\n",
      "        - Facts = ['seeds = 0', 'diameter = 7', 'skin_smell', 'color is orange', 'size is medium', 'perfumed']\n",
      "\n",
      "        ✔️ 'color is orange' is in Facts\n",
      "        ✔️ 'size is medium' is in Facts\n",
      "    ✅ R8 is True.\n",
      "    - Add 'fruit is orange' to Facts.\n",
      "    - Facts = ['seeds = 0', 'diameter = 7', 'skin_smell', 'color is orange', 'size is medium', 'perfumed', 'fruit is orange']\n",
      "\n",
      "✅ R4 is True.\n",
      "- Add 'citrus_fruit' to Facts.\n",
      "- Facts = ['seeds = 0', 'diameter = 7', 'skin_smell', 'color is orange', 'size is medium', 'perfumed', 'fruit is orange', 'citrus_fruit']\n",
      "\n",
      "😊 Goal was reached successfully.\n",
      "\n"
     ]
    }
   ],
   "source": [
    "print(f'=> Starting with facts = {original_facts} to prove goal: \\'{goal}\\'\\n')\n",
    "print('😊 Goal was reached successfully.\\n') if Backward_Chaining(rules, parsed_rules, facts, goal) else print('😞 Failed to reach goal.\\n')"
   ]
  }
 ],
 "metadata": {
  "kernelspec": {
   "display_name": "base",
   "language": "python",
   "name": "python3"
  },
  "language_info": {
   "codemirror_mode": {
    "name": "ipython",
    "version": 3
   },
   "file_extension": ".py",
   "mimetype": "text/x-python",
   "name": "python",
   "nbconvert_exporter": "python",
   "pygments_lexer": "ipython3",
   "version": "3.12.4"
  }
 },
 "nbformat": 4,
 "nbformat_minor": 5
}
